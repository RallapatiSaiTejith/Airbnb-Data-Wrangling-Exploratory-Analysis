{
  "nbformat": 4,
  "nbformat_minor": 0,
  "metadata": {
    "colab": {
      "private_outputs": true,
      "provenance": [],
      "collapsed_sections": [
        "mDgbUHAGgjLW",
        "_ouA3fa0phqN",
        "Seke61FWphqN",
        "t27r6nlMphqO",
        "r2jJGEOYphqO",
        "b0JNsNcRphqO",
        "jj7wYXLtphqO",
        "eZrbJ2SmphqO",
        "rFu4xreNphqO",
        "gIfDvo9L0UH2"
      ],
      "include_colab_link": true
    },
    "kernelspec": {
      "name": "python3",
      "display_name": "Python 3"
    },
    "language_info": {
      "name": "python"
    }
  },
  "cells": [
    {
      "cell_type": "markdown",
      "metadata": {
        "id": "view-in-github",
        "colab_type": "text"
      },
      "source": [
        "<a href=\"https://colab.research.google.com/github/RallapatiSaiTejith/Data_wrangling_project/blob/main/Data_wrangling_project.ipynb\" target=\"_parent\"><img src=\"https://colab.research.google.com/assets/colab-badge.svg\" alt=\"Open In Colab\"/></a>"
      ]
    },
    {
      "cell_type": "code",
      "source": [],
      "metadata": {
        "id": "I1apcow5dxii"
      },
      "execution_count": null,
      "outputs": []
    },
    {
      "cell_type": "markdown",
      "source": [
        "# **Project Name**    - AirBnb Bookings Analysis\n",
        "\n"
      ],
      "metadata": {
        "id": "vncDsAP0Gaoa"
      }
    },
    {
      "cell_type": "markdown",
      "source": [
        "##### **Project Type**    - EDA/Regression/Classification/Unsupervised\n",
        "##### **Contribution**    - Individual"
      ],
      "metadata": {
        "id": "beRrZCGUAJYm"
      }
    },
    {
      "cell_type": "markdown",
      "source": [
        "# **Project Summary -**"
      ],
      "metadata": {
        "id": "FJNUwmbgGyua"
      }
    },
    {
      "cell_type": "markdown",
      "source": [
        "Project Summary\n",
        "\n",
        "Introduction :\n",
        "\n",
        "The Airbnb Bookings Analysis project is an exploratory data analysis (EDA) aimed at understanding patterns, trends, and key factors influencing Airbnb bookings. As Airbnb has become a dominant force in the short-term rental industry, analyzing booking data can provide valuable insights into customer preferences, seasonal demand, pricing strategies, and host performance. This project leverages real-world Airbnb data to uncover trends that can help hosts optimize their listings and travelers make informed decisions.\n",
        "\n",
        "\n",
        "\n",
        "\n",
        "Objectives :\n",
        "\n",
        "The primary goals of this project are:\n",
        "\n",
        "*Analyze Booking Trends: Identify seasonal fluctuations, popular travel months, and booking frequency across different locations.\n",
        "\n",
        "*Price Analysis: Examine pricing variations based on location, property type, and amenities.\n",
        "\n",
        "*Host Performance Metrics: Evaluate factors contributing to high-rated hosts, such as response rate, reviews, and pricing strategies.\n",
        "\n",
        "*Guest Preferences: Understand traveler preferences by analyzing booking durations, property features, and guest reviews.\n",
        "\n",
        "*Geospatial Analysis: Explore the impact of location on booking rates, availability, and pricing.\n",
        "\n",
        "*Revenue Estimation: Predict potential revenue based on historical data and current trends.\n",
        "\n",
        "\n",
        "\n",
        "\n",
        "\n",
        "Data Description :\n",
        "\n",
        "The dataset used in this analysis is sourced from Airbnb’s publicly available listings data. It typically includes:\n",
        "\n",
        "*Listing ID and name\n",
        "\n",
        "*Host details (e.g., host ID, response rate, and listing count per host)\n",
        "\n",
        "*Location (latitude, longitude, and neighborhood)\n",
        "\n",
        "*Property type and room type\n",
        "\n",
        "*Pricing details (price per night, minimum nights, service fees, etc.)\n",
        "\n",
        "*Availability and booking trends (availability across different time frames)\n",
        "\n",
        "*Customer ratings and review scores.\n",
        "\n",
        "\n",
        "\n",
        "\n",
        "Methodology:\n",
        "\n",
        "The analysis follows a structured approach:\n",
        "\n",
        "*Data Collection and Cleaning:\n",
        "\n",
        "Handling missing or inconsistent values\n",
        "\n",
        "Removing duplicates and outliers\n",
        "\n",
        "Converting data types where necessary\n",
        "\n",
        "*Exploratory Data Analysis (EDA):\n",
        "\n",
        "Statistical summary of numerical variables\n",
        "\n",
        "Visualization of price distributions, booking trends, and host characteristics\n",
        "\n",
        "Correlation analysis to identify relationships between features\n",
        "\n",
        "*Predictive Insights:\n",
        "\n",
        "Using regression models to predict pricing trends and potential revenue generation\n",
        "\n",
        "\n",
        "\n",
        "\n",
        "\n",
        "Key Findings and Insights:\n",
        "\n",
        "The project aims to derive actionable insights such as:\n",
        "\n",
        "*Peak Booking Seasons: Identifying months with the highest demand.\n",
        "\n",
        "*Optimal Pricing Strategies: Understanding the price range that maximizes occupancy while maintaining profitability.\n",
        "\n",
        "*Host Success Factors: Determining what separates high-earning hosts from others.\n",
        "\n",
        "*Location-Based Demand: Recognizing the most sought-after areas for Airbnb stays.\n",
        "\n",
        "*Customer Sentiment Trends: Assessing guest preferences based on reviews and ratings.\n",
        "\n",
        "\n",
        "\n",
        "\n",
        "\n",
        "Tools and Technologies Used\n",
        "\n",
        "*Programming Language: Python (Pandas, NumPy, Matplotlib, Seaborn, Scikit-learn)\n",
        "\n",
        "*Data Visualization: Matplotlib, Seaborn, Plotly\n",
        "\n",
        "\n",
        "\n",
        "\n"
      ],
      "metadata": {
        "id": "F6v_1wHtG2nS"
      }
    },
    {
      "cell_type": "markdown",
      "source": [
        "# **GitHub Link -**"
      ],
      "metadata": {
        "id": "w6K7xa23Elo4"
      }
    },
    {
      "cell_type": "markdown",
      "source": [
        "Provide your GitHub Link here."
      ],
      "metadata": {
        "id": "h1o69JH3Eqqn"
      }
    },
    {
      "cell_type": "markdown",
      "source": [
        "# **Problem Statement**\n"
      ],
      "metadata": {
        "id": "yQaldy8SH6Dl"
      }
    },
    {
      "cell_type": "markdown",
      "source": [
        "The short-term rental industry has experienced significant growth, with Airbnb leading the market as a preferred accommodation choice for travelers worldwide. However, both hosts and guests face challenges in optimizing their decisions. Hosts struggle with setting the right pricing, maximizing occupancy, and understanding factors that contribute to guest satisfaction. On the other hand, travelers find it difficult to choose properties that best match their preferences and budgets. This project aims to analyze Airbnb booking data to uncover trends, pricing strategies, host performance indicators, and guest preferences. By leveraging data-driven insights, we seek to help hosts enhance their listings and travelers make informed choices, ultimately improving the overall Airbnb experience."
      ],
      "metadata": {
        "id": "DpeJGUA3kjGy"
      }
    },
    {
      "cell_type": "markdown",
      "source": [
        "#### **Define Your Business Objective?**"
      ],
      "metadata": {
        "id": "PH-0ReGfmX4f"
      }
    },
    {
      "cell_type": "markdown",
      "source": [
        "The primary business objective of this project is to extract meaningful insights from Airbnb booking data to support data-driven decision-making for stakeholders, including Airbnb hosts, travelers, and market analysts. The specific objectives include:\n",
        "\n",
        "*Optimizing Revenue for Hosts: By identifying the best pricing strategies, seasonal demand patterns, and key success factors, hosts can maximize their earnings while ensuring high occupancy rates.\n",
        "\n",
        "*Enhancing Guest Experience: Understanding guest preferences through booking trends, review sentiment, and property features enables hosts to improve their offerings and attract more bookings.\n",
        "\n",
        "*Improving Market Competitiveness: Analyzing location-based demand and pricing trends helps hosts stay competitive by adjusting their pricing and services accordingly.\n",
        "\n",
        "*Supporting Investment Decisions: Providing insights into profitable property locations and high-demand listing features aids real estate investors in making informed investment choices.\n",
        "\n",
        "*Predicting Future Trends: Using historical data to forecast demand, pricing, and revenue helps both hosts and Airbnb strategize for future growth.\n",
        "\n",
        "*Facilitating Policy and Market Analysis: Policymakers and market analysts can leverage findings to understand the economic impact of Airbnb and design regulations that balance growth and local community interests.\n",
        "\n",
        "By addressing these objectives, this project aims to create value for Airbnb stakeholders and contribute to a more efficient and profitable short-term rental ecosystem."
      ],
      "metadata": {
        "id": "PhDvGCAqmjP1"
      }
    },
    {
      "cell_type": "markdown",
      "source": [
        "# **General Guidelines** : -  "
      ],
      "metadata": {
        "id": "mDgbUHAGgjLW"
      }
    },
    {
      "cell_type": "markdown",
      "source": [
        "1.   Well-structured, formatted, and commented code is required.\n",
        "2.   Exception Handling, Production Grade Code & Deployment Ready Code will be a plus. Those students will be awarded some additional credits.\n",
        "     \n",
        "     The additional credits will have advantages over other students during Star Student selection.\n",
        "       \n",
        "             [ Note: - Deployment Ready Code is defined as, the whole .ipynb notebook should be executable in one go\n",
        "                       without a single error logged. ]\n",
        "\n",
        "3.   Each and every logic should have proper comments.\n",
        "4. You may add as many number of charts you want. Make Sure for each and every chart the following format should be answered.\n",
        "        \n",
        "\n",
        "```\n",
        "# Chart visualization code\n",
        "```\n",
        "            \n",
        "\n",
        "*   Why did you pick the specific chart?\n",
        "*   What is/are the insight(s) found from the chart?\n",
        "* Will the gained insights help creating a positive business impact?\n",
        "Are there any insights that lead to negative growth? Justify with specific reason.\n",
        "\n",
        "5. You have to create at least 20 logical & meaningful charts having important insights.\n",
        "\n",
        "\n",
        "[ Hints : - Do the Vizualization in  a structured way while following \"UBM\" Rule.\n",
        "\n",
        "U - Univariate Analysis,\n",
        "\n",
        "B - Bivariate Analysis (Numerical - Categorical, Numerical - Numerical, Categorical - Categorical)\n",
        "\n",
        "M - Multivariate Analysis\n",
        " ]\n",
        "\n",
        "\n",
        "\n"
      ],
      "metadata": {
        "id": "ZrxVaUj-hHfC"
      }
    },
    {
      "cell_type": "markdown",
      "source": [
        "# ***Let's Begin !***"
      ],
      "metadata": {
        "id": "O_i_v8NEhb9l"
      }
    },
    {
      "cell_type": "markdown",
      "source": [
        "## ***1. Know Your Data***"
      ],
      "metadata": {
        "id": "HhfV-JJviCcP"
      }
    },
    {
      "cell_type": "markdown",
      "source": [
        "### Import Libraries"
      ],
      "metadata": {
        "id": "Y3lxredqlCYt"
      }
    },
    {
      "cell_type": "code",
      "source": [
        "import numpy as np\n",
        "import pandas as pd\n",
        "import matplotlib.pyplot as plt\n",
        "import seaborn as sns"
      ],
      "metadata": {
        "id": "M8Vqi-pPk-HR"
      },
      "execution_count": null,
      "outputs": []
    },
    {
      "cell_type": "markdown",
      "source": [
        "### Dataset Loading"
      ],
      "metadata": {
        "id": "3RnN4peoiCZX"
      }
    },
    {
      "cell_type": "code",
      "source": [
        "from google.colab import drive\n",
        "drive.mount('/content/drive')\n",
        "data=pd.read_csv('/content/drive/MyDrive/Copy of Airbnb NYC 2019.csv')\n",
        "data"
      ],
      "metadata": {
        "id": "4CkvbW_SlZ_R"
      },
      "execution_count": null,
      "outputs": []
    },
    {
      "cell_type": "markdown",
      "source": [
        "### Dataset First View"
      ],
      "metadata": {
        "id": "x71ZqKXriCWQ"
      }
    },
    {
      "cell_type": "code",
      "source": [
        "data.head()"
      ],
      "metadata": {
        "id": "LWNFOSvLl09H"
      },
      "execution_count": null,
      "outputs": []
    },
    {
      "cell_type": "code",
      "source": [
        "data.tail()"
      ],
      "metadata": {
        "id": "7GuMy4WTZnNu"
      },
      "execution_count": null,
      "outputs": []
    },
    {
      "cell_type": "markdown",
      "source": [
        "### Dataset Rows & Columns count"
      ],
      "metadata": {
        "id": "7hBIi_osiCS2"
      }
    },
    {
      "cell_type": "code",
      "source": [
        "data.shape"
      ],
      "metadata": {
        "id": "Kllu7SJgmLij"
      },
      "execution_count": null,
      "outputs": []
    },
    {
      "cell_type": "markdown",
      "source": [
        "### Dataset Information"
      ],
      "metadata": {
        "id": "JlHwYmJAmNHm"
      }
    },
    {
      "cell_type": "code",
      "source": [
        "data.dtypes"
      ],
      "metadata": {
        "id": "e9hRXRi6meOf"
      },
      "execution_count": null,
      "outputs": []
    },
    {
      "cell_type": "markdown",
      "source": [
        "#### Duplicate Values"
      ],
      "metadata": {
        "id": "35m5QtbWiB9F"
      }
    },
    {
      "cell_type": "code",
      "source": [
        "data.duplicated()"
      ],
      "metadata": {
        "id": "1sLdpKYkmox0"
      },
      "execution_count": null,
      "outputs": []
    },
    {
      "cell_type": "markdown",
      "source": [
        "#### Missing Values/Null Values"
      ],
      "metadata": {
        "id": "PoPl-ycgm1ru"
      }
    },
    {
      "cell_type": "code",
      "source": [
        "data.isnull().sum()"
      ],
      "metadata": {
        "id": "GgHWkxvamxVg"
      },
      "execution_count": null,
      "outputs": []
    },
    {
      "cell_type": "code",
      "source": [
        "sns.heatmap(data.isnull())"
      ],
      "metadata": {
        "id": "3q5wnI3om9sJ"
      },
      "execution_count": null,
      "outputs": []
    },
    {
      "cell_type": "markdown",
      "source": [
        "### What did you know about your dataset?"
      ],
      "metadata": {
        "id": "H0kj-8xxnORC"
      }
    },
    {
      "cell_type": "markdown",
      "source": [
        "Dataset Size & Structure:\n",
        "\n",
        "The dataset contains 48,895 rows and 16 columns.\n",
        "\n",
        "*Columns & Data Types:\n",
        "\n",
        "Includes categorical (name, host_name, neighbourhood_group, neighbourhood, room_type, last_review) and numerical (price, minimum_nights, number_of_reviews, etc.) features.\n",
        "\n",
        "*Missing Values:\n",
        "\n",
        "name (16 missing values)\n",
        "\n",
        "host_name (21 missing values)\n",
        "\n",
        "last_review (10,052 missing values)\n",
        "\n",
        "reviews_per_month (10,052 missing values, likely due to properties with no reviews)\n",
        "\n",
        "*Key Statistics:\n",
        "\n",
        "Price Range: Min = $0, Max = $10,000, Median = $106 (suggesting extreme outliers)\n",
        "\n",
        "Minimum Nights: Max = 1,250 nights, with a median of 3 nights (likely unrealistic values)\n",
        "\n",
        "*Reviews: Some listings have 0 reviews, while the maximum is 629 reviews.\n",
        "\n",
        "*Availability: Some listings are available for 0 days, while others are available for 365 days."
      ],
      "metadata": {
        "id": "gfoNAAC-nUe_"
      }
    },
    {
      "cell_type": "markdown",
      "source": [
        "## ***2. Understanding Your Variables***"
      ],
      "metadata": {
        "id": "nA9Y7ga8ng1Z"
      }
    },
    {
      "cell_type": "code",
      "source": [
        "data.columns"
      ],
      "metadata": {
        "id": "j7xfkqrt5Ag5"
      },
      "execution_count": null,
      "outputs": []
    },
    {
      "cell_type": "code",
      "source": [
        "data.describe()"
      ],
      "metadata": {
        "id": "DnOaZdaE5Q5t"
      },
      "execution_count": null,
      "outputs": []
    },
    {
      "cell_type": "markdown",
      "source": [
        "### Variables Description"
      ],
      "metadata": {
        "id": "PBTbrJXOngz2"
      }
    },
    {
      "cell_type": "markdown",
      "source": [
        "1. Identification Variables:\n",
        "id (int) – Unique identifier for each listing.\n",
        "\n",
        "name (str, nullable) – The title or name of the listing.\n",
        "\n",
        "host_id (int) – Unique identifier for the host.\n",
        "\n",
        "host_name (str, nullable) – Name of the host.\n",
        "\n",
        "2. Location Variables:\n",
        "neighbourhood_group (str) – The broader borough in NYC where the listing is located (e.g., Manhattan, Brooklyn).\n",
        "\n",
        "neighbourhood (str) – Specific neighborhood within the borough.\n",
        "\n",
        "latitude (float) – Geographic coordinate (latitude) of the listing.\n",
        "\n",
        "longitude (float) – Geographic coordinate (longitude) of the listing.\n",
        "\n",
        "3. Property & Booking Details:\n",
        "room_type (str) – Type of listing:\n",
        "\n",
        "Entire home/apt – The entire place is available for guests.\n",
        "\n",
        "Private room – Guests share some spaces.\n",
        "\n",
        "Shared room – Guests share sleeping space with others.\n",
        "\n",
        "price (int) – The cost per night in USD.\n",
        "\n",
        "minimum_nights (int) – Minimum number of nights required for a booking.\n",
        "\n",
        "availability_365 (int) – Number of days per year the listing is available for booking.\n",
        "\n",
        "4. Review & Popularity Metrics:\n",
        "number_of_reviews (int) – Total reviews the listing has received.\n",
        "\n",
        "last_review (date, nullable) – Date of the most recent review.\n",
        "\n",
        "reviews_per_month (float, nullable) – Average number of reviews per month.\n",
        "\n",
        "5. Host Activity Variables:\n",
        "calculated_host_listings_count (int) – Number of listings the host has."
      ],
      "metadata": {
        "id": "aJV4KIxSnxay"
      }
    },
    {
      "cell_type": "markdown",
      "source": [
        "### Check Unique Values for each variable.\n",
        "\n",
        "---\n",
        "\n"
      ],
      "metadata": {
        "id": "u3PMJOP6ngxN"
      }
    },
    {
      "cell_type": "code",
      "source": [
        "data.nunique()"
      ],
      "metadata": {
        "id": "zms12Yq5n-jE"
      },
      "execution_count": null,
      "outputs": []
    },
    {
      "cell_type": "markdown",
      "source": [
        "## 3. ***Data Wrangling***"
      ],
      "metadata": {
        "id": "dauF4eBmngu3"
      }
    },
    {
      "cell_type": "markdown",
      "source": [
        "### Data Wrangling Code"
      ],
      "metadata": {
        "id": "bKJF3rekwFvQ"
      }
    },
    {
      "cell_type": "markdown",
      "source": [
        "data info"
      ],
      "metadata": {
        "id": "boz_3-KehtGC"
      }
    },
    {
      "cell_type": "code",
      "source": [
        "data.info()"
      ],
      "metadata": {
        "id": "xZi5B8rVhyqn"
      },
      "execution_count": null,
      "outputs": []
    },
    {
      "cell_type": "markdown",
      "source": [
        "value count"
      ],
      "metadata": {
        "id": "u_l8ol4Qol8U"
      }
    },
    {
      "cell_type": "code",
      "source": [
        "data.value_counts()"
      ],
      "metadata": {
        "id": "XXHuuOhholQ1"
      },
      "execution_count": null,
      "outputs": []
    },
    {
      "cell_type": "markdown",
      "source": [
        "rename\n"
      ],
      "metadata": {
        "id": "BUpuRIQ5pOkY"
      }
    },
    {
      "cell_type": "code",
      "source": [
        "data.rename({'number_of_reviews':'no_of_rev'},axis=1)"
      ],
      "metadata": {
        "id": "KreVLHDTpRxv"
      },
      "execution_count": null,
      "outputs": []
    },
    {
      "cell_type": "code",
      "source": [
        "# sort data in increasing order of price\n",
        "data.sort_values('price',inplace=True)\n",
        "data"
      ],
      "metadata": {
        "id": "wSBm1WWzqRay"
      },
      "execution_count": null,
      "outputs": []
    },
    {
      "cell_type": "code",
      "source": [
        "#filter data\n",
        "data[data['neighbourhood_group']=='Manhattan']"
      ],
      "metadata": {
        "id": "DxndjOXHqxw7"
      },
      "execution_count": null,
      "outputs": []
    },
    {
      "cell_type": "code",
      "source": [
        "#new columns\n",
        "data['total_price']=data['price']*data['minimum_nights']\n",
        "data"
      ],
      "metadata": {
        "id": "eXO93kWUskfk"
      },
      "execution_count": null,
      "outputs": []
    },
    {
      "cell_type": "code",
      "source": [
        "data.isnull().sum()"
      ],
      "metadata": {
        "id": "F6xYzCfXtgOR"
      },
      "execution_count": null,
      "outputs": []
    },
    {
      "cell_type": "code",
      "source": [
        "#drop missing value\n",
        "data.dropna(inplace=True)\n",
        "data"
      ],
      "metadata": {
        "id": "YG3kHR6vt1Z2"
      },
      "execution_count": null,
      "outputs": []
    },
    {
      "cell_type": "markdown",
      "source": [
        "1. Data Exploration\n",
        "Checked dataset structure (48,895 rows, 16 columns).\n",
        "\n",
        "Identified missing values in:\n",
        "\n",
        "name (16 missing)\n",
        "\n",
        "host_name (21 missing)\n",
        "\n",
        "last_review (10,052 missing)\n",
        "\n",
        "reviews_per_month (10,052 missing)\n",
        "\n",
        "2. Unique Value Analysis\n",
        "Hosts & Listings:\n",
        "\n",
        "37,457 unique hosts (some manage multiple properties).\n",
        "\n",
        "47,905 unique listing names (some duplicates).\n",
        "\n",
        "Location:\n",
        "\n",
        "Listings span 5 boroughs and 221 neighborhoods.\n",
        "\n",
        "Room Type Distribution:\n",
        "\n",
        "Entire home/apt, Private room, Shared room (only 3 unique values).\n",
        "\n",
        "3. Data Transformation\n",
        "Created total price column: Multiplied price and minimum nights.\n",
        "\n"
      ],
      "metadata": {
        "id": "MSa1f5Uengrz"
      }
    },
    {
      "cell_type": "markdown",
      "source": [
        "Answer Here."
      ],
      "metadata": {
        "id": "LbyXE7I1olp8"
      }
    },
    {
      "cell_type": "markdown",
      "source": [
        "## ***4. Data Vizualization, Storytelling & Experimenting with charts : Understand the relationships between variables***"
      ],
      "metadata": {
        "id": "GF8Ens_Soomf"
      }
    },
    {
      "cell_type": "markdown",
      "source": [
        "#### Chart - 1"
      ],
      "metadata": {
        "id": "0wOQAZs5pc--"
      }
    },
    {
      "cell_type": "code",
      "source": [
        "plt.figure(figsize= (4,3))\n",
        "sns.barplot(data=data,x='neighbourhood_group',y='price')\n",
        "plt.xticks(rotation=45)\n",
        "plt.show()"
      ],
      "metadata": {
        "id": "7v_ESjsspbW7"
      },
      "execution_count": null,
      "outputs": []
    },
    {
      "cell_type": "markdown",
      "source": [
        "##### 1. Why did you pick the specific chart?"
      ],
      "metadata": {
        "id": "K5QZ13OEpz2H"
      }
    },
    {
      "cell_type": "markdown",
      "source": [
        "Simple comparison between neighbourhood group and price"
      ],
      "metadata": {
        "id": "XESiWehPqBRc"
      }
    },
    {
      "cell_type": "markdown",
      "source": [
        "##### 2. What is/are the insight(s) found from the chart?"
      ],
      "metadata": {
        "id": "lQ7QKXXCp7Bj"
      }
    },
    {
      "cell_type": "markdown",
      "source": [
        "* Manahattan has the highest price in the neighbourhood group\n",
        "* Bronx has th lowest price compared in the neighbourhood group"
      ],
      "metadata": {
        "id": "C_j1G7yiqdRP"
      }
    },
    {
      "cell_type": "markdown",
      "source": [
        "##### 3. Will the gained insights help creating a positive business impact?\n",
        "Are there any insights that lead to negative growth? Justify with specific reason."
      ],
      "metadata": {
        "id": "448CDAPjqfQr"
      }
    },
    {
      "cell_type": "markdown",
      "source": [
        "By making price disparities visible across regions, businesses can adjust offerings, attract the right audience, and improve conversion and satisfaction."
      ],
      "metadata": {
        "id": "3cspy4FjqxJW"
      }
    },
    {
      "cell_type": "markdown",
      "source": [
        "#### Chart - 2"
      ],
      "metadata": {
        "id": "KSlN3yHqYklG"
      }
    },
    {
      "cell_type": "code",
      "source": [
        "plt.figure(figsize= (4,3))\n",
        "sns.barplot(data=data,x='calculated_host_listings_count',y='neighbourhood_group')\n",
        "plt.show()"
      ],
      "metadata": {
        "id": "R4YgtaqtYklH"
      },
      "execution_count": null,
      "outputs": []
    },
    {
      "cell_type": "markdown",
      "source": [
        "##### 1. Why did you pick the specific chart?"
      ],
      "metadata": {
        "id": "t6dVpIINYklI"
      }
    },
    {
      "cell_type": "markdown",
      "source": [
        "Neighborhood names are categorical and can often be long. Horizontal bars make it easier to read longer labels without rotating or truncating them."
      ],
      "metadata": {
        "id": "5aaW0BYyYklI"
      }
    },
    {
      "cell_type": "markdown",
      "source": [
        "##### 2. What is/are the insight(s) found from the chart?"
      ],
      "metadata": {
        "id": "ijmpgYnKYklI"
      }
    },
    {
      "cell_type": "markdown",
      "source": [
        "* Manhattan has the hightest number of listing count in neighbourhood group\n",
        "* Whereas the staten Island, Broklyn and bronx have least listing count in the neighbourhood group."
      ],
      "metadata": {
        "id": "PSx9atu2YklI"
      }
    },
    {
      "cell_type": "markdown",
      "source": [
        "##### 3. Will the gained insights help creating a positive business impact?\n",
        "Are there any insights that lead to negative growth? Justify with specific reason."
      ],
      "metadata": {
        "id": "-JiQyfWJYklI"
      }
    },
    {
      "cell_type": "markdown",
      "source": [
        "Market Targeting & Expansion , Competitive Positioning,  Strategic Pricing"
      ],
      "metadata": {
        "id": "BcBbebzrYklV"
      }
    },
    {
      "cell_type": "markdown",
      "source": [
        "#### Chart - 3"
      ],
      "metadata": {
        "id": "EM7whBJCYoAo"
      }
    },
    {
      "cell_type": "code",
      "source": [
        "plt.figure(figsize= (4,3))\n",
        "sns.boxplot(data=data,x='room_type',y='price')\n",
        "plt.show()"
      ],
      "metadata": {
        "id": "t6GMdE67YoAp"
      },
      "execution_count": null,
      "outputs": []
    },
    {
      "cell_type": "markdown",
      "source": [
        "Price Distribution & Spread, Comparison Across Room Types, Spotting Outliers & Price Gaps."
      ],
      "metadata": {
        "id": "fge-S5ZAYoAp"
      }
    },
    {
      "cell_type": "markdown",
      "source": [
        "Answer Here."
      ],
      "metadata": {
        "id": "5dBItgRVYoAp"
      }
    },
    {
      "cell_type": "markdown",
      "source": [
        "##### 2. What is/are the insight(s) found from the chart?"
      ],
      "metadata": {
        "id": "85gYPyotYoAp"
      }
    },
    {
      "cell_type": "markdown",
      "source": [
        "* Entire homes/apartments charge premium prices\n",
        "* shared rooms are more cheaper than the other to room types."
      ],
      "metadata": {
        "id": "4jstXR6OYoAp"
      }
    },
    {
      "cell_type": "markdown",
      "source": [
        "##### 3. Will the gained insights help creating a positive business impact?\n",
        "Are there any insights that lead to negative growth? Justify with specific reason."
      ],
      "metadata": {
        "id": "RoGjAbkUYoAp"
      }
    },
    {
      "cell_type": "markdown",
      "source": [
        "* Better Pricing Algorithms → Helps Airbnb fine-tune dynamic pricing based on real trends.\n",
        "* Improved Search & Filtering → If private rooms are overpriced in certain areas, Airbnb can suggest alternatives."
      ],
      "metadata": {
        "id": "zfJ8IqMcYoAp"
      }
    },
    {
      "cell_type": "markdown",
      "source": [
        "#### Chart - 4"
      ],
      "metadata": {
        "id": "4Of9eVA-YrdM"
      }
    },
    {
      "cell_type": "code",
      "source": [
        "# Minimum Nights vs. Number of Reviews\n",
        "plt.figure(figsize= (20,3))\n",
        "sns.boxplot(data=data,x='minimum_nights',y='number_of_reviews')\n",
        "plt.xticks(rotation=45)\n",
        "plt.show()\n"
      ],
      "metadata": {
        "id": "irlUoxc8YrdO"
      },
      "execution_count": null,
      "outputs": []
    },
    {
      "cell_type": "markdown",
      "source": [
        "##### 1. Why did you pick the specific chart?\n",
        "\n",
        "\n",
        "\n"
      ],
      "metadata": {
        "id": "iky9q4vBYrdO"
      }
    },
    {
      "cell_type": "markdown",
      "source": [
        "I picked a box plot for number of reviews vs. minimum nights because it’s the best way to visualize how review activity changes with different stay lengths while identifying patterns and anomalies.\n"
      ],
      "metadata": {
        "id": "aJRCwT6DYrdO"
      }
    },
    {
      "cell_type": "markdown",
      "source": [
        "##### 2. What is/are the insight(s) found from the chart?"
      ],
      "metadata": {
        "id": "F6T5p64dYrdO"
      }
    },
    {
      "cell_type": "markdown",
      "source": [
        "* Listings with Shorter Minimum Stays Get More Reviews\n",
        "* Longer Minimum Stay Listings Have Fewer Reviews"
      ],
      "metadata": {
        "id": "Xx8WAJvtYrdO"
      }
    },
    {
      "cell_type": "markdown",
      "source": [
        "##### 3. Will the gained insights help creating a positive business impact?\n",
        "Are there any insights that lead to negative growth? Justify with specific reason."
      ],
      "metadata": {
        "id": "y-Ehk30pYrdP"
      }
    },
    {
      "cell_type": "markdown",
      "source": [
        "More Reviews → Higher Visibility & Bookings , Optimizing Pricing & Minimum Stay Strategy"
      ],
      "metadata": {
        "id": "jLNxxz7MYrdP"
      }
    },
    {
      "cell_type": "markdown",
      "source": [
        "#### Chart - 5"
      ],
      "metadata": {
        "id": "bamQiAODYuh1"
      }
    },
    {
      "cell_type": "code",
      "source": [
        "#Availability vs. Price\n",
        "plt.figure(figsize= (20,3))\n",
        "sns.scatterplot(data=data,x='availability_365',y='price')\n",
        "plt.show()"
      ],
      "metadata": {
        "id": "TIJwrbroYuh3"
      },
      "execution_count": null,
      "outputs": []
    },
    {
      "cell_type": "markdown",
      "source": [
        "##### 1. Why did you pick the specific chart?"
      ],
      "metadata": {
        "id": "QHF8YVU7Yuh3"
      }
    },
    {
      "cell_type": "markdown",
      "source": [
        "I picked a scatter plot for Availability vs. Price because it’s the best way to visualize how price correlates with the number of available days per year."
      ],
      "metadata": {
        "id": "dcxuIMRPYuh3"
      }
    },
    {
      "cell_type": "markdown",
      "source": [
        "##### 2. What is/are the insight(s) found from the chart?\n",
        "\n",
        "---\n",
        "\n"
      ],
      "metadata": {
        "id": "GwzvFGzlYuh3"
      }
    },
    {
      "cell_type": "markdown",
      "source": [
        "* No Strong Correlation Between Price & Availability\n",
        "* High-Priced Listings Tend to Have Lower Availability\n",
        "* Budget-Friendly Listings Are Available Year-Round\n"
      ],
      "metadata": {
        "id": "uyqkiB8YYuh3"
      }
    },
    {
      "cell_type": "markdown",
      "source": [
        "##### 3. Will the gained insights help creating a positive business impact?\n",
        "Are there any insights that lead to negative growth? Justify with specific reason."
      ],
      "metadata": {
        "id": "qYpmQ266Yuh3"
      }
    },
    {
      "cell_type": "markdown",
      "source": [
        "* If luxury listings with low availability charge premium rates, hosts can limit availability to create exclusivity.\n",
        "*  If budget-friendly listings with high availability get more bookings, hosts can keep calendar open year-round."
      ],
      "metadata": {
        "id": "_WtzZ_hCYuh4"
      }
    },
    {
      "cell_type": "markdown",
      "source": [
        "#### Chart - 6"
      ],
      "metadata": {
        "id": "OH-pJp9IphqM"
      }
    },
    {
      "cell_type": "code",
      "source": [
        "# Host Listings vs. Price\n",
        "plt.figure(figsize= (20,3))\n",
        "sns.scatterplot(data=data,x='calculated_host_listings_count',y='price')\n",
        "plt.show()"
      ],
      "metadata": {
        "id": "kuRf4wtuphqN"
      },
      "execution_count": null,
      "outputs": []
    },
    {
      "cell_type": "markdown",
      "source": [
        "##### 1. Why did you pick the specific chart?"
      ],
      "metadata": {
        "id": "bbFf2-_FphqN"
      }
    },
    {
      "cell_type": "markdown",
      "source": [
        "I chose this graph because it helps uncover how host behavior and business scale influence pricing strategies—a key factor for both Airbnb's operations and host success."
      ],
      "metadata": {
        "id": "loh7H2nzphqN"
      }
    },
    {
      "cell_type": "markdown",
      "source": [
        "##### 2. What is/are the insight(s) found from the chart?"
      ],
      "metadata": {
        "id": "_ouA3fa0phqN"
      }
    },
    {
      "cell_type": "markdown",
      "source": [
        "* Multi-Listing Hosts Tend to Have Slightly Lower Prices.\n",
        "* Single-Listing Hosts Charge a Wider Range of Prices."
      ],
      "metadata": {
        "id": "VECbqPI7phqN"
      }
    },
    {
      "cell_type": "markdown",
      "source": [
        "##### 3. Will the gained insights help creating a positive business impact?\n",
        "Are there any insights that lead to negative growth? Justify with specific reason."
      ],
      "metadata": {
        "id": "Seke61FWphqN"
      }
    },
    {
      "cell_type": "markdown",
      "source": [
        "* Business Impact by Audience.\n",
        "* The relationship between host listing count and pricing reveals patterns that can directly inform Airbnb’s strategy, host behavior, and guest expectations."
      ],
      "metadata": {
        "id": "OC7FAdY-HTha"
      }
    },
    {
      "cell_type": "markdown",
      "source": [
        "#### Chart - 7"
      ],
      "metadata": {
        "id": "PIIx-8_IphqN"
      }
    },
    {
      "cell_type": "code",
      "source": [
        "# Reviews per Month vs. Price\n",
        "plt.figure(figsize= (20,3))\n",
        "sns.scatterplot(data=data,x='reviews_per_month',y='price')\n",
        "plt.show()"
      ],
      "metadata": {
        "id": "lqAIGUfyphqO"
      },
      "execution_count": null,
      "outputs": []
    },
    {
      "cell_type": "markdown",
      "source": [
        "##### 1. Why did you pick the specific chart?"
      ],
      "metadata": {
        "id": "t27r6nlMphqO"
      }
    },
    {
      "cell_type": "markdown",
      "source": [
        "* Reviews per Month = Demand Signal\n",
        "* Helps Identify the Sweet Spot for Pricing"
      ],
      "metadata": {
        "id": "iv6ro40sphqO"
      }
    },
    {
      "cell_type": "markdown",
      "source": [
        "##### 2. What is/are the insight(s) found from the chart?"
      ],
      "metadata": {
        "id": "r2jJGEOYphqO"
      }
    },
    {
      "cell_type": "markdown",
      "source": [
        " * Lower-Priced Listings Get More Reviews per Month\n",
        " * High-Priced Listings Receive Fewer Reviews per Month"
      ],
      "metadata": {
        "id": "Po6ZPi4hphqO"
      }
    },
    {
      "cell_type": "markdown",
      "source": [
        "##### 3. Will the gained insights help creating a positive business impact?\n",
        "Are there any insights that lead to negative growth? Justify with specific reason."
      ],
      "metadata": {
        "id": "b0JNsNcRphqO"
      }
    },
    {
      "cell_type": "markdown",
      "source": [
        "The relationship between Reviews per Month and Price offers valuable guidance for both hosts and Airbnb to optimize their strategy for higher engagement and revenue.\n",
        "\n"
      ],
      "metadata": {
        "id": "xvSq8iUTphqO"
      }
    },
    {
      "cell_type": "markdown",
      "source": [
        "#### Chart - 8"
      ],
      "metadata": {
        "id": "BZR9WyysphqO"
      }
    },
    {
      "cell_type": "code",
      "source": [
        "#Host Listings vs. Reviews\n",
        "plt.figure(figsize= (20,3))\n",
        "sns.scatterplot(data=data,x='calculated_host_listings_count',y='number_of_reviews')\n",
        "plt.show()"
      ],
      "metadata": {
        "id": "TdPTWpAVphqO"
      },
      "execution_count": null,
      "outputs": []
    },
    {
      "cell_type": "markdown",
      "source": [
        "##### 1. Why did you pick the specific chart?"
      ],
      "metadata": {
        "id": "jj7wYXLtphqO"
      }
    },
    {
      "cell_type": "markdown",
      "source": [
        "Visualizing Scale vs. Engagement\n",
        "Easy to Spot Patterns & Outliers"
      ],
      "metadata": {
        "id": "Ob8u6rCTphqO"
      }
    },
    {
      "cell_type": "markdown",
      "source": [
        "##### 2. What is/are the insight(s) found from the chart?"
      ],
      "metadata": {
        "id": "eZrbJ2SmphqO"
      }
    },
    {
      "cell_type": "markdown",
      "source": [
        "* Most Reviews Come from Hosts with Fewer Listings\n",
        "* Multi-Listing Hosts Show Varying Review Performance"
      ],
      "metadata": {
        "id": "mZtgC_hjphqO"
      }
    },
    {
      "cell_type": "markdown",
      "source": [
        "##### 3. Will the gained insights help creating a positive business impact?\n",
        "Are there any insights that lead to negative growth? Justify with specific reason."
      ],
      "metadata": {
        "id": "rFu4xreNphqO"
      }
    },
    {
      "cell_type": "markdown",
      "source": [
        "Answer Here"
      ],
      "metadata": {
        "id": "ey_0qi68phqO"
      }
    },
    {
      "cell_type": "markdown",
      "source": [
        "#### Chart - 9"
      ],
      "metadata": {
        "id": "YJ55k-q6phqO"
      }
    },
    {
      "cell_type": "code",
      "source": [
        "#Listings Count by Room Type\n",
        "plt.figure(figsize= (20,3))\n",
        "room_type_counts = data['room_type'].value_counts()\n",
        "plt.pie(room_type_counts, labels=room_type_counts.index, autopct='%1.1f%%')\n",
        "plt.show()"
      ],
      "metadata": {
        "id": "B2aS4O1ophqO"
      },
      "execution_count": null,
      "outputs": []
    },
    {
      "cell_type": "markdown",
      "source": [
        "##### 1. Why did you pick the specific chart?"
      ],
      "metadata": {
        "id": "gCFgpxoyphqP"
      }
    },
    {
      "cell_type": "markdown",
      "source": [
        "* Clear Proportional Comparison\n",
        "* Visual Simplicity"
      ],
      "metadata": {
        "id": "TVxDimi2phqP"
      }
    },
    {
      "cell_type": "markdown",
      "source": [
        "##### 2. What is/are the insight(s) found from the chart?"
      ],
      "metadata": {
        "id": "OVtJsKN_phqQ"
      }
    },
    {
      "cell_type": "markdown",
      "source": [
        "* Entire home/apt usually makes up the largest portion, indicating a preference for full privacy.\n",
        "* Private rooms are the second most common, often used by travelers seeking budget-friendly stays or local interactions."
      ],
      "metadata": {
        "id": "ngGi97qjphqQ"
      }
    },
    {
      "cell_type": "markdown",
      "source": [
        "##### 3. Will the gained insights help creating a positive business impact?\n",
        "Are there any insights that lead to negative growth? Justify with specific reason."
      ],
      "metadata": {
        "id": "lssrdh5qphqQ"
      }
    },
    {
      "cell_type": "markdown",
      "source": [
        "* Product-Market Fit & Inventory Planning\n",
        "* Pricing & Positioning Strategy"
      ],
      "metadata": {
        "id": "tBpY5ekJphqQ"
      }
    },
    {
      "cell_type": "markdown",
      "source": [
        "#### Chart - 10"
      ],
      "metadata": {
        "id": "U2RJ9gkRphqQ"
      }
    },
    {
      "cell_type": "code",
      "source": [
        "\n",
        "plt.figure(figsize= (20,5))\n",
        "neighbourhood_group_count= data['neighbourhood_group'].value_counts()\n",
        "plt.pie(neighbourhood_group_count,labels=neighbourhood_group_count.index, autopct='%1.1f%%')\n",
        "plt.show()\n",
        "\n"
      ],
      "metadata": {
        "id": "GM7a4YP4phqQ"
      },
      "execution_count": null,
      "outputs": []
    },
    {
      "cell_type": "markdown",
      "source": [
        "##### 1. Why did you pick the specific chart?"
      ],
      "metadata": {
        "id": "1M8mcRywphqQ"
      }
    },
    {
      "cell_type": "markdown",
      "source": [
        "*  Instant Visual Insight\n",
        "*  Limited Categories = Clean Visuals"
      ],
      "metadata": {
        "id": "8agQvks0phqQ"
      }
    },
    {
      "cell_type": "markdown",
      "source": [
        "##### 2. What is/are the insight(s) found from the chart?"
      ],
      "metadata": {
        "id": "tgIPom80phqQ"
      }
    },
    {
      "cell_type": "markdown",
      "source": [
        "*  Growth Opportunities\n",
        "* Targeted Marketing & Investment"
      ],
      "metadata": {
        "id": "Qp13pnNzphqQ"
      }
    },
    {
      "cell_type": "markdown",
      "source": [
        "##### 3. Will the gained insights help creating a positive business impact?\n",
        "Are there any insights that lead to negative growth? Justify with specific reason."
      ],
      "metadata": {
        "id": "JMzcOPDDphqR"
      }
    },
    {
      "cell_type": "markdown",
      "source": [
        "* For Hosts & Property Managers\n",
        "* For City Planners or Tourism Boards"
      ],
      "metadata": {
        "id": "R4Ka1PC2phqR"
      }
    },
    {
      "cell_type": "markdown",
      "source": [
        "#### Chart - 11"
      ],
      "metadata": {
        "id": "x-EpHcCOp1ci"
      }
    },
    {
      "cell_type": "code",
      "source": [
        "plt.figure(figsize=(10, 6))\n",
        "sns.histplot(data['availability_365'], bins=50, kde=False, color='skyblue')\n",
        "plt.xlabel('Availability (Days)')\n",
        "plt.ylabel('Frequency')\n",
        "plt.title('Distribution of Availability')\n",
        "plt.show()"
      ],
      "metadata": {
        "id": "mAQTIvtqp1cj"
      },
      "execution_count": null,
      "outputs": []
    },
    {
      "cell_type": "markdown",
      "source": [
        "##### 1. Why did you pick the specific chart?"
      ],
      "metadata": {
        "id": "X_VqEhTip1ck"
      }
    },
    {
      "cell_type": "markdown",
      "source": [
        "I picked a histogram for the \"Listings Count vs Availability\" chart because it's the best way to visualize a distribution — especially when you're looking at how many listings fall into different availability ranges throughout the yea"
      ],
      "metadata": {
        "id": "-vsMzt_np1ck"
      }
    },
    {
      "cell_type": "markdown",
      "source": [
        "##### 2. What is/are the insight(s) found from the chart?"
      ],
      "metadata": {
        "id": "8zGJKyg5p1ck"
      }
    },
    {
      "cell_type": "markdown",
      "source": [
        "* 365-day listings for consistent revenue.\n",
        "* Low-availability listings for re-engagement or offboarding."
      ],
      "metadata": {
        "id": "ZYdMsrqVp1ck"
      }
    },
    {
      "cell_type": "markdown",
      "source": [
        "##### 3. Will the gained insights help creating a positive business impact?\n",
        "Are there any insights that lead to negative growth? Justify with specific reason."
      ],
      "metadata": {
        "id": "PVzmfK_Ep1ck"
      }
    },
    {
      "cell_type": "markdown",
      "source": [
        "* Identify Revenue Opportunities\n",
        "* Listings with 365 availability are full-time — great candidates for promotions, premium support, or professional tools."
      ],
      "metadata": {
        "id": "druuKYZpp1ck"
      }
    },
    {
      "cell_type": "markdown",
      "source": [
        "#### Chart - 13"
      ],
      "metadata": {
        "id": "Ag9LCva-p1cl"
      }
    },
    {
      "cell_type": "code",
      "source": [
        "#4. Number of Reviews\n",
        "plt.figure(figsize= (20,3))\n",
        "sns.histplot(data=data,x='number_of_reviews',bins=50,kde=False)\n",
        "plt.show()"
      ],
      "metadata": {
        "id": "EUfxeq9-p1cl"
      },
      "execution_count": null,
      "outputs": []
    },
    {
      "cell_type": "markdown",
      "source": [
        "##### 1. Why did you pick the specific chart?"
      ],
      "metadata": {
        "id": "E6MkPsBcp1cl"
      }
    },
    {
      "cell_type": "markdown",
      "source": [
        "A histogram gives a fast, intuitive view of how reviews are distributed across thousands of listings.\n",
        "\n",
        "Great for presentations or dashboards — even non-technical viewers can get the message."
      ],
      "metadata": {
        "id": "PybC4BKArVpq"
      }
    },
    {
      "cell_type": "markdown",
      "source": [
        "##### 2. What is/are the insight(s) found from the chart?"
      ],
      "metadata": {
        "id": "2cELzS2fp1cl"
      }
    },
    {
      "cell_type": "markdown",
      "source": [
        "High number of reviews usually = more bookings.\n",
        "\n",
        "It also reflects consistent guest traffic over time."
      ],
      "metadata": {
        "id": "ozQPc2_Ip1cl"
      }
    },
    {
      "cell_type": "markdown",
      "source": [
        "##### 3. Will the gained insights help creating a positive business impact?\n",
        "Are there any insights that lead to negative growth? Justify with specific reason."
      ],
      "metadata": {
        "id": "3MPXvC8up1cl"
      }
    },
    {
      "cell_type": "markdown",
      "source": [
        "* Identify Top-Performing Listings\n",
        "* Strategic Investment & Growth"
      ],
      "metadata": {
        "id": "GL8l1tdLp1cl"
      }
    },
    {
      "cell_type": "markdown",
      "source": [
        "#### Chart - 14 - Correlation Heatmap"
      ],
      "metadata": {
        "id": "NC_X3p0fY2L0"
      }
    },
    {
      "cell_type": "code",
      "source": [
        "# Correlation Heatmap visualization code\n",
        "numeric_df = data.select_dtypes(include=['number'])\n",
        "corr_matrix = numeric_df.corr()\n",
        "plt.figure(figsize=(10, 8))\n",
        "sns.heatmap(corr_matrix, annot=True, fmt=\".2f\", cmap='coolwarm', square=True, linewidths=0.5)\n",
        "\n"
      ],
      "metadata": {
        "id": "xyC9zolEZNRQ"
      },
      "execution_count": null,
      "outputs": []
    },
    {
      "cell_type": "markdown",
      "source": [
        "##### 1. Why did you pick the specific chart?"
      ],
      "metadata": {
        "id": "UV0SzAkaZNRQ"
      }
    },
    {
      "cell_type": "markdown",
      "source": [
        "You're Measuring Relationships, Not Distributions\n",
        "Smart for Feature Selection & Business Strategy"
      ],
      "metadata": {
        "id": "DVPuT8LYZNRQ"
      }
    },
    {
      "cell_type": "markdown",
      "source": [
        "##### 2. What is/are the insight(s) found from the chart?"
      ],
      "metadata": {
        "id": "YPEH6qLeZNRQ"
      }
    },
    {
      "cell_type": "markdown",
      "source": [
        " * reviews_per_month vs number_of_reviews → Very strong positive correlation (0.99)\n",
        " * availability_365 vs number_of_reviews → Moderate positive correlation (~0.36)\n",
        " *  minimum_nights vs other features → Very low or negative correlations"
      ],
      "metadata": {
        "id": "bfSqtnDqZNRR"
      }
    },
    {
      "cell_type": "markdown",
      "source": [
        "#### Chart - 15 - Pair Plot"
      ],
      "metadata": {
        "id": "q29F0dvdveiT"
      }
    },
    {
      "cell_type": "code",
      "source": [
        "# Pair Plot visualization code\n",
        "sns.pairplot(data)\n",
        "plt.show()"
      ],
      "metadata": {
        "id": "o58-TEIhveiU"
      },
      "execution_count": null,
      "outputs": []
    },
    {
      "cell_type": "markdown",
      "source": [
        "##### 1. Why did you pick the specific chart?"
      ],
      "metadata": {
        "id": "EXh0U9oCveiU"
      }
    },
    {
      "cell_type": "markdown",
      "source": [
        "I chose a pairplot (also known as a scatterplot matrix) for the Airbnb NYC 2019 dataset because it is an effective visualization tool for exploring relationships between multiple numerical variables simultaneously."
      ],
      "metadata": {
        "id": "eMmPjTByveiU"
      }
    },
    {
      "cell_type": "markdown",
      "source": [
        "##### 2. What is/are the insight(s) found from the chart?"
      ],
      "metadata": {
        "id": "22aHeOlLveiV"
      }
    },
    {
      "cell_type": "markdown",
      "source": [
        "* The presence of extreme prices suggests a diverse market, with luxury listings coexisting alongside budget options. Outliers may need special consideration in pricing models or could represent unique properties (e.g., entire homes in premium neighborhoods like Manhattan).\n",
        "\n",
        "* Listings with longer minimum stays tend to be priced higher, possibly targeting long-term renters or reflecting hosts’ preference for stable bookings. This could indicate a niche for extended-stay accommodations in NYC."
      ],
      "metadata": {
        "id": "uPQ8RGwHveiV"
      }
    },
    {
      "cell_type": "markdown",
      "source": [
        "## **5. Solution to Business Objective**"
      ],
      "metadata": {
        "id": "JcMwzZxoAimU"
      }
    },
    {
      "cell_type": "markdown",
      "source": [
        "#### What do you suggest the client to achieve Business Objective ?\n",
        "Explain Briefly."
      ],
      "metadata": {
        "id": "8G2x9gOozGDZ"
      }
    },
    {
      "cell_type": "markdown",
      "source": [
        "*  Focus on High-Engagement Listings\n",
        "\n",
        "Action: Prioritize and invest in listings with ≥50 reviews and high availability — they already have momentum.\n",
        "\n",
        "* Target Underutilized Listings for Optimization\n",
        "\n",
        "Action: Offer training, photography support, or pricing tools to help these hosts convert better.\n",
        "\n",
        "* Use Room Type & Neighbourhood Insights for Strategy\n",
        "\n",
        "\n",
        "Action: Invest marketing in top-performing room types & zones, while launching pilots in underbooked areas.\n",
        "\n",
        "*  Leverage Price Independency\n",
        "\n",
        "Action: Use smart pricing tools and A/B testing to maximize revenue without hurting engagement.\n",
        "\n",
        "*  Clean Data & Platform Inventory\n",
        "\n",
        "Action: Perform regular audits to clean up inactive listings.\n",
        "\n",
        "*  Predict & Promote Rising Stars (Pair Plot Insights)\n",
        "\n",
        "Action: Create a “Boost” program to accelerate promising listings with ad credits or homepage placement.\n",
        "\n",
        "\n",
        "\n",
        "\n",
        "\n",
        "\n",
        "\n",
        "\n",
        "\n",
        "\n",
        "\n",
        "\n"
      ],
      "metadata": {
        "id": "pASKb0qOza21"
      }
    },
    {
      "cell_type": "markdown",
      "source": [
        "# **Conclusion**"
      ],
      "metadata": {
        "id": "gCX9965dhzqZ"
      }
    },
    {
      "cell_type": "markdown",
      "source": [
        "By conducting an in-depth exploratory data analysis of Airbnb bookings, this project provides valuable insights for both Airbnb hosts and travelers. Hosts can optimize their pricing and listing strategies, while travelers can make informed decisions about their stays. The findings from this analysis can also be beneficial for market analysts and policymakers to understand the impact of short-term rentals on local economies."
      ],
      "metadata": {
        "id": "Fjb1IsQkh3yE"
      }
    },
    {
      "cell_type": "markdown",
      "source": [
        "### ***Hurrah! You have successfully completed your EDA Capstone Project !!!***"
      ],
      "metadata": {
        "id": "gIfDvo9L0UH2"
      }
    }
  ]
}